{
 "cells": [
  {
   "cell_type": "code",
   "execution_count": 1,
   "metadata": {},
   "outputs": [],
   "source": [
    "import os\n",
    "\n",
    "def count_images_in_directory(data_dir):\n",
    "    class_counts = {}\n",
    "    total_count = 0\n",
    "\n",
    "    for root, dirs, files in os.walk(data_dir):\n",
    "        if dirs:  # Skip the root directory itself\n",
    "            continue\n",
    "        class_name = os.path.basename(root)\n",
    "        count = len(files)\n",
    "        class_counts[class_name] = count\n",
    "        total_count += count\n",
    "\n",
    "    print(\"Original Dataset Counts by Class:\")\n",
    "    for class_name, count in class_counts.items():\n",
    "        print(f\"{class_name}: {count} images\")\n",
    "    print(f\"Total images in dataset: {total_count}\")\n",
    "    \n",
    "    return class_counts, total_count"
   ]
  },
  {
   "cell_type": "code",
   "execution_count": 2,
   "metadata": {},
   "outputs": [
    {
     "name": "stdout",
     "output_type": "stream",
     "text": [
      "Original Dataset Counts by Class:\n",
      "Bishop: 87 images\n",
      "King: 76 images\n",
      "Knight: 106 images\n",
      "Pawn: 107 images\n",
      "Queen: 78 images\n",
      "Rook: 102 images\n",
      "Total images in dataset: 556\n"
     ]
    }
   ],
   "source": [
    "# Count the original images in the dataset\n",
    "class_counts, total_images = count_images_in_directory(data_dir='Data')"
   ]
  },
  {
   "cell_type": "code",
   "execution_count": null,
   "metadata": {},
   "outputs": [
    {
     "name": "stdout",
     "output_type": "stream",
     "text": [
      "Image format: PNG\n",
      "Response: {'class_label': 'Knight', 'confidence': 0.9992715716362}\n"
     ]
    }
   ],
   "source": [
    "import requests\n",
    "from PIL import Image\n",
    "\n",
    "# Define the image file path\n",
    "file_path = r\"image-test.png\"  # Use raw string for Windows path\n",
    "\n",
    "# Verify the image format\n",
    "try:\n",
    "    with Image.open(file_path) as img:\n",
    "        print(\"Image format:\", img.format)  # Should output \"JPEG\" or \"PNG\"\n",
    "        if img.format not in [\"JPEG\", \"PNG\"]:\n",
    "            raise ValueError(\"Invalid image format. Please use a JPEG or PNG file.\")\n",
    "except Exception as e:\n",
    "    print(f\"Image format check failed: {e}\")\n",
    "    exit()  # Stop the script if image check fails\n",
    "\n",
    "# Define the API endpoint\n",
    "url = \"http://127.0.0.1:8000/predict\"\n",
    "\n",
    "# Send the image file in a POST request\n",
    "try:\n",
    "    with open(file_path, \"rb\") as image_file:\n",
    "        files = {\"file\": (file_path, image_file, \"image/jpeg\")}  # Set explicit MIME type if JPEG\n",
    "        response = requests.post(url, files=files)\n",
    "        print(\"Response:\", response.json())\n",
    "except Exception as e:\n",
    "    print(f\"Request failed: {e}\")\n"
   ]
  },
  {
   "cell_type": "code",
   "execution_count": null,
   "metadata": {},
   "outputs": [],
   "source": []
  }
 ],
 "metadata": {
  "kernelspec": {
   "display_name": "myenv",
   "language": "python",
   "name": "python3"
  },
  "language_info": {
   "codemirror_mode": {
    "name": "ipython",
    "version": 3
   },
   "file_extension": ".py",
   "mimetype": "text/x-python",
   "name": "python",
   "nbconvert_exporter": "python",
   "pygments_lexer": "ipython3",
   "version": "3.12.7"
  }
 },
 "nbformat": 4,
 "nbformat_minor": 2
}
